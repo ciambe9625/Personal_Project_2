{
 "cells": [
  {
   "cell_type": "code",
   "execution_count": null,
   "id": "f573092d-9684-40bc-9ffe-8d8026dc3d18",
   "metadata": {},
   "outputs": [],
   "source": [
    "import pandas as pd\n",
    "import numpy as np                              #Import the libraries\n",
    "import matplotlib.pyplot as plt\n",
    "import datetime as dt"
   ]
  },
  {
   "cell_type": "code",
   "execution_count": null,
   "id": "3d24ca2f-f3e5-4bc8-9913-77bfa3ff4341",
   "metadata": {},
   "outputs": [],
   "source": [
    "#Import Dataset\n",
    "df= pd.read_csv(\"Downloads\\\\archive (3)\\\\Ecommerce_Consumer_Behavior_Analysis_Data.csv\")"
   ]
  },
  {
   "cell_type": "code",
   "execution_count": null,
   "id": "5084805f-89e8-4370-b5e4-428de2f94bab",
   "metadata": {},
   "outputs": [],
   "source": [
    "#first look at the dataset\n",
    "df.head()\n",
    "df.info()\n"
   ]
  },
  {
   "cell_type": "code",
   "execution_count": null,
   "id": "eb4a9185-b58a-418e-8328-f699ca89c0a7",
   "metadata": {},
   "outputs": [],
   "source": [
    "#removing useless symbols from data\n",
    "df['Purchase_Amount']=df['Purchase_Amount'].replace('\\$','',regex=True).astype('float')"
   ]
  },
  {
   "cell_type": "code",
   "execution_count": null,
   "id": "b0390f5d-b112-41f7-8d2e-7e1a86f992a0",
   "metadata": {},
   "outputs": [],
   "source": [
    "#check and eliminate duplicates\n",
    "df=df.drop_duplicates()"
   ]
  },
  {
   "cell_type": "code",
   "execution_count": null,
   "id": "01226e54-d7f5-413a-9081-c1b299d60bbe",
   "metadata": {},
   "outputs": [],
   "source": [
    "#check and replace null value from columns\n",
    "for col in df[['Social_Media_Influence','Engagement_with_Ads']]:\n",
    "    print(df[col].isnull().value_counts())\n",
    "    \n",
    "for col in df[['Social_Media_Influence','Engagement_with_Ads']]:\n",
    "    df[col]=df[col].replace(np.nan,'None')"
   ]
  },
  {
   "cell_type": "code",
   "execution_count": null,
   "id": "215dda58-01ec-481a-b3e6-e7ffef2edb5a",
   "metadata": {},
   "outputs": [],
   "source": [
    "#modify datatype \n",
    "df['Purchase_Amount']=df['Purchase_Amount'].astype('float').round(2)\n",
    "\n",
    "df['Date_of_Purchase']=pd.to_datetime(df['Date_of_Purchase'])\n",
    "\n",
    "\n",
    "df['Date_of_Purchase']=df['Date_of_Purchase'].dt.strftime('%d-%m-%y')"
   ]
  },
  {
   "cell_type": "code",
   "execution_count": null,
   "id": "55b167b3-b353-457c-8743-42cf99f58c59",
   "metadata": {},
   "outputs": [],
   "source": [
    "#fixing colummns name\n",
    "df.columns=['Customer_ID', 'Age', 'Gender', 'Income_Level', 'Marital_Status',\n",
    "       'Education_Level', 'Occupation_Level', 'Location', 'Purchase_Category',\n",
    "       'Purchase_Amount', 'Purchase_Frequency', 'Purchase_Channel',\n",
    "       'Brand_Loyalty', 'Product_Rating',\n",
    "       'Hours_For_Product_Research', 'Social_Media_Influence',\n",
    "       'Discount_Sensitivity', 'Return_Rate', 'Customer_Satisfaction',\n",
    "       'Engagement_with_Ads', 'Device_Used', 'Payment_Method',\n",
    "       'Date_of_Purchase', 'Discount_Used', 'Customer_Loyalty_Program_Member',\n",
    "       'Purchase_Intent', 'Shipping_Preference', 'Days_to_Decision']"
   ]
  },
  {
   "cell_type": "code",
   "execution_count": null,
   "id": "6e4c46a7-828d-4ac0-a01c-a9e1cc30590f",
   "metadata": {},
   "outputs": [],
   "source": [
    "#saving csv file\n",
    "df.to_csv('C:\\\\Users\\\\andrea\\\\Downloads\\\\Ecommerce Customers Behaviour.csv')"
   ]
  },
  {
   "cell_type": "code",
   "execution_count": null,
   "id": "63e86d0b-7edc-46b7-a9fd-81155e889bb2",
   "metadata": {},
   "outputs": [],
   "source": []
  },
  {
   "cell_type": "code",
   "execution_count": null,
   "id": "26981fcf-6583-4d27-b631-7bcc81d0eccc",
   "metadata": {},
   "outputs": [],
   "source": []
  },
  {
   "cell_type": "code",
   "execution_count": null,
   "id": "7d15bb21-205d-4462-8a96-783755276464",
   "metadata": {},
   "outputs": [],
   "source": []
  }
 ],
 "metadata": {
  "kernelspec": {
   "display_name": "Python 3 (ipykernel)",
   "language": "python",
   "name": "python3"
  },
  "language_info": {
   "codemirror_mode": {
    "name": "ipython",
    "version": 3
   },
   "file_extension": ".py",
   "mimetype": "text/x-python",
   "name": "python",
   "nbconvert_exporter": "python",
   "pygments_lexer": "ipython3",
   "version": "3.11.7"
  }
 },
 "nbformat": 4,
 "nbformat_minor": 5
}
